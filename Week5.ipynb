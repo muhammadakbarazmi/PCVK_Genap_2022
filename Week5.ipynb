{
  "nbformat": 4,
  "nbformat_minor": 0,
  "metadata": {
    "colab": {
      "name": "Week5.ipynb",
      "provenance": [],
      "authorship_tag": "ABX9TyNjIEgerUVQUHsDM9OlbSlJ",
      "include_colab_link": true
    },
    "kernelspec": {
      "name": "python3",
      "display_name": "Python 3"
    },
    "language_info": {
      "name": "python"
    }
  },
  "cells": [
    {
      "cell_type": "markdown",
      "metadata": {
        "id": "view-in-github",
        "colab_type": "text"
      },
      "source": [
        "<a href=\"https://colab.research.google.com/github/muhammadakbarazmi/PCVK_Genap_2022/blob/main/Week5.ipynb\" target=\"_parent\"><img src=\"https://colab.research.google.com/assets/colab-badge.svg\" alt=\"Open In Colab\"/></a>"
      ]
    },
    {
      "cell_type": "code",
      "execution_count": null,
      "metadata": {
        "id": "i4ixOwHvo8kP"
      },
      "outputs": [],
      "source": [
        "from google.colab import drive\n",
        "drive.mount('/content/drive')"
      ]
    },
    {
      "cell_type": "code",
      "source": [
        "import cv2 as cv \n",
        "from google.colab.patches import cv2_imshow \n",
        "from skimage import io \n",
        "import matplotlib.pyplot as plt \n",
        "import numpy as np \n",
        "\n",
        "img_f = cv.imread('/content/drive/MyDrive/Polinema/PCVK2022/female.tiff')\n",
        "img_rgb = cv.cvtColor(img_f,cv.COLOR_BGR2RGB) # konversi channel BGR -> RGB\n",
        "plt.imshow(img_rgb)"
      ],
      "metadata": {
        "id": "pTBSDzcgpNUI"
      },
      "execution_count": null,
      "outputs": []
    },
    {
      "cell_type": "markdown",
      "source": [
        "# Tugas Praktikum\n",
        "1. Buat Gamma Correction sesuai dengan petunjuk berikut\n",
        "\n",
        "Percobaan ini akan meminta anda membuat Gamma Correction. Pada percobaan ini, nilai Gamma akan diset dengan meminta masukan dari pengguna. Berikut adalah kode untuk meminta masukan nilai dari pengguna. Lanjutkan kode tersebut dengan membuat image dengan gamma correction sesuai rumus yang telah diberikan"
      ],
      "metadata": {
        "id": "VT9p6uQepRr8"
      }
    },
    {
      "cell_type": "code",
      "source": [
        "# Nomor 1\n",
        "print(' Gamma Correction pada citra ')\n",
        "print('----------------------------------')\n",
        "try: \n",
        "  gamma = int(input('Masukkan nilai Gamma: '))\n",
        "except ValueError:\n",
        "  print('Error, not a number')\n",
        "\n",
        "original = cv.cvtColor(img_rgb,cv.COLOR_BGR2RGB)\n",
        "gamma_image = np.zeros(original.shape, original.dtype)\n",
        "\n",
        "for y in range(original.shape[0]):\n",
        "  for x in range(original.shape[1]):\n",
        "    for c in range(original.shape[2]):\n",
        "     gamma_image[y,x,c] = np.clip(255 * pow(original[y,x,c] / 255, (1 / gamma)), 0, 255)\n",
        "     \n",
        "final_frame = cv.hconcat((original, gamma_image))\n",
        "cv2_imshow(final_frame)"
      ],
      "metadata": {
        "id": "scurhB2QpPks"
      },
      "execution_count": null,
      "outputs": []
    },
    {
      "cell_type": "markdown",
      "source": [
        "2. Buat Simulasi Image Depth \n",
        "\n",
        "Percobaan ini digunakan sebagai simulasi dari proses kuantisasi citra. Pada kuantisasi citra, \n",
        "pixel dapat direpresentasikan dengan n-bit kedalaman (default menggunakan 8-bit). Pada \n",
        "pixel 8-bit, warna yang memungkinkan adalah 256 warna, dari 0 (0000 0000) hingga \n",
        "255(1111 1111). Pada pixel 7-bit, warna yang memungkinkan adalah 128 warna, dari 0 (000 \n",
        "0000) hingga 127 (111 1111). Kemungkinan warna didapat dari pangkat 2 jumlah bit. Jika \n",
        "7bit, maka jumlah warnanya adalah 27 = 128, dst. Karena Visual Studio 2017 bekerja hanya \n",
        "pada 8 bit, maka percobaan ini hanya memanipulasi warna sehingga jumlah warnanya \n",
        "sesuai dengan kedalamannya. Untuk kasus 7-bit, maka dua warna 8-bit diwakili oleh satu \n",
        "warna 7-bit. Contoh pixel warna 0 dan 1 pada 8-bit, diwakili oleh warna 0 pada 7-bit. pixel \n",
        "warna 2 dan 3 pada 8-bit, diwakili oleh warna 1 pada 7-bit, dst"
      ],
      "metadata": {
        "id": "k8eycQttpYIU"
      }
    },
    {
      "cell_type": "code",
      "source": [
        "# Nomor 2\n",
        "original = cv.cvtColor(img_rgb,cv.COLOR_BGR2RGB)\n",
        "gamma_image = np.zeros(original.shape, original.dtype)\n",
        "\n",
        "print(' Simulasi Image Depth ')\n",
        "print('----------------------')\n",
        "try:\n",
        "  bd = float(input('Masukkan nilai bit depth: '))\n",
        "except ValueError:\n",
        "  print('Error, not a number')\n",
        "\n",
        "bit = 2**bd\n",
        "level = 255 / (bit - 1)\n",
        "\n",
        "for y in range(original.shape[0]):\n",
        "  for x in range(original.shape[1]):\n",
        "    for c in range(original.shape[2]):\n",
        "     gamma_image[y,x,c] = np.clip(round(original[y,x,c] / level) * level, 0, 255);\n",
        "\n",
        "final_frame = cv.hconcat((original, gamma_image))\n",
        "cv2_imshow(final_frame)"
      ],
      "metadata": {
        "id": "qUjT8vW7pWN7"
      },
      "execution_count": null,
      "outputs": []
    },
    {
      "cell_type": "markdown",
      "source": [
        "3. Buat modul Average Denoising\n",
        "\n",
        "Buat modul average denoising sesuai dengan rumus yang telah diberikan pada sub bab sebelumnya.\n",
        "\n",
        "Citra asli sudah disediakan pada /images/galaxy.jpg. 100 Citra dengan Gaussian Noise sudah disediakan pada /images/noises/*.jpg Anda dapat menggunakan code berikut untuk membaca semua image dalam satu folder , gunakan modul glob (import glob)."
      ],
      "metadata": {
        "id": "GzDSdMWxpeXc"
      }
    },
    {
      "cell_type": "code",
      "source": [
        "# Nomor 3.1 (citra: 5)\n",
        "import glob\n",
        "from math import log10, sqrt\n",
        "  \n",
        "original = cv.imread('/content/drive/MyDrive/Polinema/PCVK2022/galaxy.jpg')\n",
        "cv_img = []\n",
        "for img in glob.glob('/content/drive/MyDrive/Polinema/PCVK2022/noises/*.jpg'):\n",
        "    n = cv.imread(img)\n",
        "    cv_img.append(n)\n",
        "\n",
        "dst = cv_img[0]\n",
        "noise_number = 4 # nomor (array) gambar pada folder noises\n",
        "for i in range(noise_number):\n",
        "    if i == 0:\n",
        "        pass\n",
        "    else:\n",
        "        alpha = 1.0 / (i + 1)\n",
        "        beta = 1.0 - alpha\n",
        "        dst = cv.addWeighted(cv_img[i], alpha, dst, beta, 0.0)\n",
        "\n",
        "def PSNR(original, compressed): \n",
        "    mse = np.mean((original - compressed) ** 2) \n",
        "    if(mse == 0):  # MSE is zero means no noise is present in the signal. \n",
        "                  # Therefore PSNR have no importance. \n",
        "        return 100\n",
        "    max_pixel = 255.0\n",
        "    psnr = 20 * log10(max_pixel / sqrt(mse)) \n",
        "    return psnr\n",
        "\n",
        "compressed = dst\n",
        "psnr = PSNR(original, compressed)\n",
        "\n",
        "print('Nilai PSNR adalah',psnr,'(dB)')\n",
        "galaxy_frame = cv.hconcat((original, dst))\n",
        "cv2_imshow(galaxy_frame)"
      ],
      "metadata": {
        "id": "Y506xTuZphW8"
      },
      "execution_count": null,
      "outputs": []
    },
    {
      "cell_type": "code",
      "source": [
        "# Nomor 3.2 (citra: 30)\n",
        "\n",
        "dst = cv_img[0]\n",
        "noise_number = 29 # nomor (array) gambar pada folder noises\n",
        "for i in range(noise_number):\n",
        "    if i == 0:\n",
        "        pass\n",
        "    else:\n",
        "        alpha = 1.0 / (i + 1)\n",
        "        beta = 1.0 - alpha\n",
        "        dst = cv.addWeighted(cv_img[i], alpha, dst, beta, 0.0)\n",
        "\n",
        "compressed = dst\n",
        "psnr = PSNR(original, compressed)\n",
        "\n",
        "print('Nilai PSNR adalah',psnr,'(dB)')\n",
        "galaxy_frame = cv.hconcat((original, dst))\n",
        "cv2_imshow(galaxy_frame)"
      ],
      "metadata": {
        "id": "ZIxLu8iOpl00"
      },
      "execution_count": null,
      "outputs": []
    },
    {
      "cell_type": "code",
      "source": [
        "# Nomor 3.3 (citra: 60)\n",
        "\n",
        "dst = cv_img[0]\n",
        "noise_number = 59 # nomor (array) gambar pada folder noises\n",
        "for i in range(noise_number):\n",
        "    if i == 0:\n",
        "        pass\n",
        "    else:\n",
        "        alpha = 1.0 / (i + 1)\n",
        "        beta = 1.0 - alpha\n",
        "        dst = cv.addWeighted(cv_img[i], alpha, dst, beta, 0.0)\n",
        "\n",
        "compressed = dst\n",
        "psnr = PSNR(original, compressed)\n",
        "\n",
        "print('Nilai PSNR adalah',psnr,'(dB)')\n",
        "galaxy_frame = cv.hconcat((original, dst))\n",
        "cv2_imshow(galaxy_frame)"
      ],
      "metadata": {
        "id": "8x2xCErJpojj"
      },
      "execution_count": null,
      "outputs": []
    },
    {
      "cell_type": "code",
      "source": [
        "# Nomor 3.4 (citra: 80)\n",
        "\n",
        "dst = cv_img[0]\n",
        "noise_number = 79 # nomor (array) gambar pada folder noises\n",
        "for i in range(noise_number):\n",
        "    if i == 0:\n",
        "        pass\n",
        "    else:\n",
        "        alpha = 1.0 / (i + 1)\n",
        "        beta = 1.0 - alpha\n",
        "        dst = cv.addWeighted(cv_img[i], alpha, dst, beta, 0.0)\n",
        "\n",
        "compressed = dst\n",
        "psnr = PSNR(original, compressed)\n",
        "\n",
        "print('Nilai PSNR adalah',psnr,'(dB)')\n",
        "galaxy_frame = cv.hconcat((original, dst))\n",
        "cv2_imshow(galaxy_frame)"
      ],
      "metadata": {
        "id": "oKUas-2yptP0"
      },
      "execution_count": null,
      "outputs": []
    },
    {
      "cell_type": "code",
      "source": [
        "# Nomor 3.5 (citra: 100)\n",
        "\n",
        "dst = cv_img[0]\n",
        "noise_number = 99 # nomor (array) gambar pada folder noises\n",
        "for i in range(noise_number):\n",
        "    if i == 0:\n",
        "        pass\n",
        "    else:\n",
        "        alpha = 1.0 / (i + 1)\n",
        "        beta = 1.0 - alpha\n",
        "        dst = cv.addWeighted(cv_img[i], alpha, dst, beta, 0.0)\n",
        "\n",
        "compressed = dst\n",
        "psnr = PSNR(original, compressed)\n",
        "\n",
        "print('Nilai PSNR adalah',psnr,'(dB)')\n",
        "galaxy_frame = cv.hconcat((original, dst))\n",
        "cv2_imshow(galaxy_frame)"
      ],
      "metadata": {
        "id": "hIIL7S0FpvuD"
      },
      "execution_count": null,
      "outputs": []
    },
    {
      "cell_type": "code",
      "source": [
        "# Nomor 4\n",
        "img_t = cv.imread('/content/drive/MyDrive/Polinema/PCVK2022/teeth.jpg')\n",
        "\n",
        "mask = np.zeros(img_t.shape, dtype=np.uint8)\n",
        "mask = cv.rectangle(mask,pt1=(315,595),\n",
        "                    pt2=(770,1025),color=(255,255,255),thickness=-1)\n",
        "\n",
        "result = img_t & mask\n",
        "\n",
        "mask1 = cv.rectangle(mask,pt1=(405,5),\n",
        "                     pt2=(850,455),color=(255,255,255),thickness=-1)\n",
        "\n",
        "result = img_t & mask1\n",
        "\n",
        "teeth_frame = cv.hconcat((img_t, result))\n",
        "cv2_imshow(teeth_frame)"
      ],
      "metadata": {
        "id": "VvY2zeztpxxb"
      },
      "execution_count": null,
      "outputs": []
    },
    {
      "cell_type": "markdown",
      "source": [
        "Catatan\n",
        "### Types of Python Bitwise Operators\n",
        "#### We have the following bitwise operators that are supported by Python –\n",
        "|              |                        |\n",
        "| ------------ | ------------           |\n",
        "| Operator     | Name                   |\n",
        "| &            | Bitwise AND            |\n",
        "| l            | Bitwise OR             |\n",
        "| ^            | Bitwise XOR            |\n",
        "| ~            | Bitwise 1's complement |\n",
        "| <<           | Left-Shift             |\n",
        "| >>           | Right-Shift            |\n",
        "\n",
        "#### 🌐 Source: [Python Bitwise Operators – Start operating on the bits of numbers](https://techvidvan.com/tutorials/python-bitwise-operators/)"
      ],
      "metadata": {
        "id": "TzOLtke-p2xM"
      }
    },
    {
      "cell_type": "code",
      "source": [
        "# Contoh pada operator AND\n",
        "img_rose = cv.imread('/content/drive/MyDrive/PCVK/IMG/rose_pink.png')\n",
        "\n",
        "mask = np.zeros(img_rose.shape, dtype=np.uint8)\n",
        "mask = cv.circle(mask, (260, 300), 225, (255,255,255), -1)\n",
        "\n",
        "masked = img_rose & mask\n",
        "\n",
        "rose_frame = cv.hconcat((img_rose, mask, masked))\n",
        "cv2_imshow(rose_frame)"
      ],
      "metadata": {
        "id": "CE4QvH58p0Ge"
      },
      "execution_count": null,
      "outputs": []
    },
    {
      "cell_type": "code",
      "source": [
        "# Contoh pada operator AND\n",
        "img_rose = cv.imread('/content/drive/MyDrive/PCVK/IMG/rose_pink.png')\n",
        "\n",
        "mask = np.zeros(img_rose.shape, dtype=np.uint8)\n",
        "mask = cv.circle(mask, (260, 300), 225, (255,255,255), -1)\n",
        "\n",
        "masked = img_rose & mask\n",
        "\n",
        "rose_frame = cv.hconcat((img_rose, mask, masked))\n",
        "cv2_imshow(rose_frame)"
      ],
      "metadata": {
        "id": "tjOGK1PVp6-T"
      },
      "execution_count": null,
      "outputs": []
    },
    {
      "cell_type": "code",
      "source": [
        "# Nomor 5.1 (OR)\n",
        "\n",
        "mask = np.zeros(img_rose.shape, dtype=np.uint8)\n",
        "mask = cv.circle(mask, (260, 300), 225, (255,255,255), -1)\n",
        "\n",
        "masked = img_rose | mask\n",
        "\n",
        "rose_frame = cv.hconcat((img_rose, mask, masked))\n",
        "cv2_imshow(rose_frame)"
      ],
      "metadata": {
        "id": "FVugLjMyqEAc"
      },
      "execution_count": null,
      "outputs": []
    },
    {
      "cell_type": "code",
      "source": [
        "# Nomor 5.2 (NOT)\n",
        "\n",
        "mask = np.zeros(img_rose.shape, dtype=np.uint8)\n",
        "mask = cv.circle(mask, (260, 300), 225, (255,255,255), -1)\n",
        "\n",
        "masked = ~img_rose & ~mask\n",
        "\n",
        "rose_frame = cv.hconcat((img_rose, mask, masked))\n",
        "cv2_imshow(rose_frame)"
      ],
      "metadata": {
        "id": "GmSH8zlTqGIs"
      },
      "execution_count": null,
      "outputs": []
    },
    {
      "cell_type": "code",
      "source": [
        "# Nomor 5.3 (NAND atau NOT AND)\n",
        "\n",
        "mask = np.zeros(img_rose.shape, dtype=np.uint8)\n",
        "mask = cv.circle(mask, (260, 300), 225, (255,255,255), -1)\n",
        "\n",
        "masked = ~img_rose & mask\n",
        "\n",
        "rose_frame = cv.hconcat((img_rose, mask, masked))\n",
        "cv2_imshow(rose_frame)"
      ],
      "metadata": {
        "id": "ytbg0IsMqH9F"
      },
      "execution_count": null,
      "outputs": []
    },
    {
      "cell_type": "code",
      "source": [
        "# Nomor 5.4 (XOR atau Exclusive OR)\n",
        "\n",
        "mask = np.zeros(img_rose.shape, dtype=np.uint8)\n",
        "mask = cv.circle(mask, (260, 300), 225, (255,255,255), -1)\n",
        "\n",
        "masked = img_rose ^ mask\n",
        "\n",
        "rose_frame = cv.hconcat((img_rose, mask, masked))\n",
        "cv2_imshow(rose_frame)"
      ],
      "metadata": {
        "id": "u6UuY2gEqKDU"
      },
      "execution_count": null,
      "outputs": []
    }
  ]
}