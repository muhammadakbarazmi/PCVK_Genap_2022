{
  "nbformat": 4,
  "nbformat_minor": 0,
  "metadata": {
    "colab": {
      "name": "ProyekAkhirPCVK.ipynb",
      "provenance": [],
      "include_colab_link": true
    },
    "kernelspec": {
      "name": "python3",
      "display_name": "Python 3"
    },
    "language_info": {
      "name": "python"
    },
    "accelerator": "TPU",
    "gpuClass": "standard"
  },
  "cells": [
    {
      "cell_type": "markdown",
      "metadata": {
        "id": "view-in-github",
        "colab_type": "text"
      },
      "source": [
        "<a href=\"https://colab.research.google.com/github/muhammadakbarazmi/PCVK_Genap_2022/blob/main/ProyekAkhirPCVK.ipynb\" target=\"_parent\"><img src=\"https://colab.research.google.com/assets/colab-badge.svg\" alt=\"Open In Colab\"/></a>"
      ]
    },
    {
      "cell_type": "markdown",
      "source": [
        "# **Tujuan Project:**\n"
      ],
      "metadata": {
        "id": "zny5NujcrDXR"
      }
    },
    {
      "cell_type": "markdown",
      "source": [
        "**Anggota Kelompok:**\n",
        "\n",
        "1. Muhammad Akbar Azmi\n",
        "\n",
        "2. Zalna Rahma Nadiyana Hanifa"
      ],
      "metadata": {
        "id": "jxq5iW-5rJ2e"
      }
    },
    {
      "cell_type": "markdown",
      "source": [
        "**Object Detection**\n",
        "\n",
        "Metode yang digunakan :\n",
        "\n",
        "Template Matching\n",
        "\n",
        "Edge Detection\n",
        "\n",
        "Corner Detection\n",
        "\n",
        "Grid Detection\n",
        "\n",
        "Contour Detection"
      ],
      "metadata": {
        "id": "BIttzeh5nzqp"
      }
    },
    {
      "cell_type": "code",
      "source": [
        "!git clone https://github.com/tensorflow/tpu/"
      ],
      "metadata": {
        "id": "MGuKnO3m6zAq",
        "outputId": "553ffcd0-eca8-44e8-9d75-0446c71477ee",
        "colab": {
          "base_uri": "https://localhost:8080/"
        }
      },
      "execution_count": 2,
      "outputs": [
        {
          "output_type": "stream",
          "name": "stdout",
          "text": [
            "Cloning into 'tpu'...\n",
            "remote: Enumerating objects: 10883, done.\u001b[K\n",
            "remote: Counting objects: 100% (1085/1085), done.\u001b[K\n",
            "remote: Compressing objects: 100% (528/528), done.\u001b[K\n",
            "remote: Total 10883 (delta 591), reused 967 (delta 533), pack-reused 9798\u001b[K\n",
            "Receiving objects: 100% (10883/10883), 45.76 MiB | 28.85 MiB/s, done.\n",
            "Resolving deltas: 100% (7629/7629), done.\n"
          ]
        }
      ]
    },
    {
      "cell_type": "code",
      "execution_count": 3,
      "metadata": {
        "id": "T3xlcLxcm7Iu"
      },
      "outputs": [],
      "source": [
        "from IPython import display\n",
        "from PIL import Image\n",
        "import numpy as np\n",
        "#%tensorflow_version 1.x\n",
        "import tensorflow as tf\n",
        "import sys\n",
        "sys.path.insert(0, 'tpu/models/official')\n",
        "sys.path.insert(0, 'tpu/models/official/mask_rcnn')\n",
        "import coco_metric\n",
        "from mask_rcnn.object_detection import visualization_utils"
      ]
    },
    {
      "cell_type": "code",
      "source": [
        "from google.colab import drive\n",
        "\n",
        "drive.mount('/content/drive')"
      ],
      "metadata": {
        "colab": {
          "base_uri": "https://localhost:8080/"
        },
        "id": "DmO1P7jBoSeI",
        "outputId": "64d738cd-6efa-4e2d-de3f-f983397bd8f7"
      },
      "execution_count": 5,
      "outputs": [
        {
          "output_type": "stream",
          "name": "stdout",
          "text": [
            "Mounted at /content/drive\n"
          ]
        }
      ]
    },
    {
      "cell_type": "code",
      "source": [
        "ID_MAPPING = {\n",
        "    1: 'person',\n",
        "    2: 'bicycle',\n",
        "    3: 'car',\n",
        "    4: 'motorcycle',\n",
        "    5: 'airplane',\n",
        "    6: 'bus',\n",
        "    7: 'train',\n",
        "    8: 'truck',\n",
        "    9: 'boat',\n",
        "    10: 'traffic light',\n",
        "    11: 'fire hydrant',\n",
        "    13: 'stop sign',\n",
        "    14: 'parking meter',\n",
        "    15: 'bench',\n",
        "    16: 'bird',\n",
        "    17: 'cat',\n",
        "    18: 'dog',\n",
        "    19: 'horse',\n",
        "    20: 'sheep',\n",
        "    21: 'cow',\n",
        "    22: 'elephant',\n",
        "    23: 'bear',\n",
        "    24: 'zebra',\n",
        "    25: 'giraffe',\n",
        "    27: 'backpack',\n",
        "    28: 'umbrella',\n",
        "    31: 'handbag',\n",
        "    32: 'tie',\n",
        "    33: 'suitcase',\n",
        "    34: 'frisbee',\n",
        "    35: 'skis',\n",
        "    36: 'snowboard',\n",
        "    37: 'sports ball',\n",
        "    38: 'kite',\n",
        "    39: 'baseball bat',\n",
        "    40: 'baseball glove',\n",
        "    41: 'skateboard',\n",
        "    42: 'surfboard',\n",
        "    43: 'tennis racket',\n",
        "    44: 'bottle',\n",
        "    46: 'wine glass',\n",
        "    47: 'cup',\n",
        "    48: 'fork',\n",
        "    49: 'knife',\n",
        "    50: 'spoon',\n",
        "    51: 'bowl',\n",
        "    52: 'banana',\n",
        "    53: 'apple',\n",
        "    54: 'sandwich',\n",
        "    55: 'orange',\n",
        "    56: 'broccoli',\n",
        "    57: 'carrot',\n",
        "    58: 'hot dog',\n",
        "    59: 'pizza',\n",
        "    60: 'donut',\n",
        "    61: 'cake',\n",
        "    62: 'chair',\n",
        "    63: 'couch',\n",
        "    64: 'potted plant',\n",
        "    65: 'bed',\n",
        "    67: 'dining table',\n",
        "    70: 'toilet',\n",
        "    72: 'tv',\n",
        "    73: 'laptop',\n",
        "    74: 'mouse',\n",
        "    75: 'remote',\n",
        "    76: 'keyboard',\n",
        "    77: 'cell phone',\n",
        "    78: 'microwave',\n",
        "    79: 'oven',\n",
        "    80: 'toaster',\n",
        "    81: 'sink',\n",
        "    82: 'refrigerator',\n",
        "    84: 'book',\n",
        "    85: 'clock',\n",
        "    86: 'vase',\n",
        "    87: 'scissors',\n",
        "    88: 'teddy bear',\n",
        "    89: 'hair drier',\n",
        "    90: 'toothbrush',\n",
        "}\n",
        "category_index = {k: {'id': k, 'name': ID_MAPPING[k]} for k in ID_MAPPING}"
      ],
      "metadata": {
        "id": "TaIZGQVV7IIG"
      },
      "execution_count": 6,
      "outputs": []
    },
    {
      "cell_type": "code",
      "source": [
        "# Load an image\n",
        "\n",
        "car_image = '/content/drive/MyDrive/PCVK_MM/CarPark/2012-10-26_07_19_27.jpg'\n",
        "\n",
        "with open(car_image, 'rb') as f:\n",
        "  np_image_string = np.array([f.read()])\n",
        "  \n",
        "image = Image.open(car_image)\n",
        "width, height = image.size\n",
        "np_image = np.array(image.getdata()).reshape(height, width, 3).astype(np.uint8)\n",
        "\n",
        "display.display(display.Image(car_image))"
      ],
      "metadata": {
        "id": "R1xTzyug7UYM",
        "outputId": "dda5bc8c-9423-4529-8bf2-ba3f45a83be0",
        "colab": {
          "base_uri": "https://localhost:8080/",
          "height": 235
        }
      },
      "execution_count": 7,
      "outputs": [
        {
          "output_type": "error",
          "ename": "FileNotFoundError",
          "evalue": "ignored",
          "traceback": [
            "\u001b[0;31m---------------------------------------------------------------------------\u001b[0m",
            "\u001b[0;31mFileNotFoundError\u001b[0m                         Traceback (most recent call last)",
            "\u001b[0;32m<ipython-input-7-c59ae5db9f86>\u001b[0m in \u001b[0;36m<module>\u001b[0;34m()\u001b[0m\n\u001b[1;32m      3\u001b[0m \u001b[0mcar_image\u001b[0m \u001b[0;34m=\u001b[0m \u001b[0;34m'/content/drive/MyDrive/PCVK_MM/CarPark/2012-10-26_07_19_27.jpg'\u001b[0m\u001b[0;34m\u001b[0m\u001b[0;34m\u001b[0m\u001b[0m\n\u001b[1;32m      4\u001b[0m \u001b[0;34m\u001b[0m\u001b[0m\n\u001b[0;32m----> 5\u001b[0;31m \u001b[0;32mwith\u001b[0m \u001b[0mopen\u001b[0m\u001b[0;34m(\u001b[0m\u001b[0mcar_image\u001b[0m\u001b[0;34m,\u001b[0m \u001b[0;34m'rb'\u001b[0m\u001b[0;34m)\u001b[0m \u001b[0;32mas\u001b[0m \u001b[0mf\u001b[0m\u001b[0;34m:\u001b[0m\u001b[0;34m\u001b[0m\u001b[0;34m\u001b[0m\u001b[0m\n\u001b[0m\u001b[1;32m      6\u001b[0m   \u001b[0mnp_image_string\u001b[0m \u001b[0;34m=\u001b[0m \u001b[0mnp\u001b[0m\u001b[0;34m.\u001b[0m\u001b[0marray\u001b[0m\u001b[0;34m(\u001b[0m\u001b[0;34m[\u001b[0m\u001b[0mf\u001b[0m\u001b[0;34m.\u001b[0m\u001b[0mread\u001b[0m\u001b[0;34m(\u001b[0m\u001b[0;34m)\u001b[0m\u001b[0;34m]\u001b[0m\u001b[0;34m)\u001b[0m\u001b[0;34m\u001b[0m\u001b[0;34m\u001b[0m\u001b[0m\n\u001b[1;32m      7\u001b[0m \u001b[0;34m\u001b[0m\u001b[0m\n",
            "\u001b[0;31mFileNotFoundError\u001b[0m: [Errno 2] No such file or directory: '/content/drive/MyDrive/PCVK_MM/CarPark/2012-10-26_07_19_27.jpg'"
          ]
        }
      ]
    },
    {
      "cell_type": "code",
      "source": [
        "# load citra input \n",
        "img = cv.imread('/content/drive/MyDrive/ProyekAkhir/CarPark/2012-11-09_07_06_33.jpg')\n",
        "img_gray = cv.cvtColor(img,cv.COLOR_BGR2GRAY)\n",
        "img2 = img.copy()\n",
        "\n",
        "#load citra template\n",
        "template = cv.imread('/content/drive/MyDrive/ProyekAkhir/CarPark/2012-11-09_07_26_34.jpg',0)\n",
        "# dimensi citra\n",
        "w, h = template.shape[::-1]\n",
        "\n",
        "# print input image dan template\n",
        "f, axarr = plt. subplots(1,2,figsize=(15,5)) #membuat 2 plot untuk citra input dan template \n",
        "axarr[0].imshow(cv.cvtColor(img, cv.COLOR_BGR2RGB)), axarr[0].set_title(\"input image\") \n",
        "axarr[1].imshow(cv.cvtColor(template, cv.COLOR_BGR2RGB)), axarr[1].set_title(\"template image\")\n",
        "\n",
        "# All the 6 methods for comparison in a list\n",
        "methods = ['cv.TM_CCOEFF', 'cv.TM_CCOEFF_NORMED', 'cv.TM_CCORR',\n",
        "            'cv.TM_CCORR_NORMED', 'cv.TM_SQDIFF', 'cv.TM_SQDIFF_NORMED']\n",
        "            \n",
        "for meth in methods:\n",
        "    img = img2.copy()\n",
        "    method = eval(meth)\n",
        "    # Apply template Matching\n",
        "    res = cv.matchTemplate(img_gray,template,method)\n",
        "    min_val, max_val, min_loc, max_loc = cv.minMaxLoc(res)\n",
        "    # If the method is TM_SQDIFF or TM_SQDIFF_NORMED, take minimum\n",
        "    if method in [cv.TM_SQDIFF, cv.TM_SQDIFF_NORMED]:\n",
        "        top_left = min_loc\n",
        "    else:\n",
        "        top_left = max_loc\n",
        "    bottom_right = (top_left[0] + w, top_left[1] + h)\n",
        "\n",
        "    cv.rectangle(img,top_left, bottom_right,(0,0,255))\n",
        "    plt.figure(figsize=(15,5))\n",
        "    plt.subplot(121),plt.imshow(res,cmap = 'gray')\n",
        "    plt.title('Matching Result'), plt.xticks([]), plt.yticks([])\n",
        "    plt.subplot(122),plt.imshow(cv.cvtColor(img, cv.COLOR_BGR2RGB))\n",
        "    plt.title('Detected Point'), plt.xticks([]), plt.yticks([])\n",
        "    print(\"\\n\\n\")\n",
        "    plt.suptitle(meth, fontsize=20)\n",
        "    plt.show()"
      ],
      "metadata": {
        "id": "Ri2RDpPaoSr_"
      },
      "execution_count": null,
      "outputs": []
    },
    {
      "cell_type": "code",
      "source": [
        ""
      ],
      "metadata": {
        "id": "3lH-FUrusNwe"
      },
      "execution_count": null,
      "outputs": []
    }
  ]
}